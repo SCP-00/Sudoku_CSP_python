{
 "cells": [
  {
   "cell_type": "markdown",
   "metadata": {},
   "source": [
    "# Sudoku Solver Using Constraint Satisfaction Problem (CSP)\n",
    "\n",
    "In this notebook, we will solve Sudoku puzzles using techniques from Constraint Satisfaction Problems (CSP) such as Naked Single, Hidden Single, and algorithms like AC-3, MRV (Minimum Remaining Values), and Degree Heuristic.\n",
    "\n",
    "## What is CSP?\n",
    "A Constraint Satisfaction Problem is a mathematical problem where we must assign values to a set of variables in such a way that the constraints between them are satisfied. Sudoku is a classic example of a CSP, where each cell is a variable and the constraints are the rules of the game (each row, column, and 3x3 box must contain the digits 1-9 without repetition).\n",
    "\n",
    "## Import libraries"
   ]
  },
  {
   "cell_type": "code",
   "execution_count": 1,
   "metadata": {},
   "outputs": [],
   "source": [
    "import os\n",
    "import itertools as it\n",
    "from collections import deque"
   ]
  },
  {
   "cell_type": "markdown",
   "metadata": {},
   "source": [
    "## Function: `read_board`\n",
    "This function reads the Sudoku board from a file, ensuring it contains exactly 81 lines (for the 81 cells). Each cell is either a known value or a set of possible values."
   ]
  },
  {
   "cell_type": "code",
   "execution_count": 2,
   "metadata": {},
   "outputs": [],
   "source": [
    "def read_board(file_path):\n",
    "    \"\"\"Read the text file and create the board dictionary.\"\"\"\n",
    "    board = {}\n",
    "    with open(file_path, 'r') as file:\n",
    "        lines = file.readlines()\n",
    "        if len(lines) != 81:\n",
    "            raise ValueError(\"The file must contain exactly 81 lines.\")\n",
    "        rows = 'ABCDEFGHI'\n",
    "        columns = '123456789'\n",
    "        for i, line in enumerate(lines):\n",
    "            row = rows[i // 9]\n",
    "            column = columns[i % 9]\n",
    "            cell = row + column\n",
    "            options = line.strip()\n",
    "            board[cell] = set(options) if len(options) > 1 else {options}\n",
    "    return board\n",
    "\n",
    "def print_board(board):\n",
    "    \"\"\"Print the Sudoku board.\"\"\"\n",
    "    rows = 'ABCDEFGHI'\n",
    "    columns = '123456789'\n",
    "    for row in rows:\n",
    "        for column in columns:\n",
    "            cell = row + column\n",
    "            print(''.join(board[cell]) if len(board[cell]) == 1 else '.', end=' ')\n",
    "        print()"
   ]
  },
  {
   "cell_type": "markdown",
   "metadata": {},
   "source": [
    "### Function: `naked_single`\n",
    "\n",
    "The **Naked Single** technique simplifies the Sudoku board by checking if any cell contains only one possible value (a \"naked single\"). If such a cell is found, that value is removed from the possible values of the other cells in the same row, column, or box.\n",
    "\n",
    "This helps reduce the possible values for neighboring cells and moves us closer to the solution.\n"
   ]
  },
  {
   "cell_type": "code",
   "execution_count": 3,
   "metadata": {},
   "outputs": [],
   "source": [
    "def naked_single(board, constraints):\n",
    "    \"\"\"\n",
    "    Applies the Naked Single technique to the board.\n",
    "\n",
    "    Parameters:\n",
    "    board (dict): The current Sudoku board.\n",
    "    constraints (list): A list of constraints (rows, columns, boxes).\n",
    "\n",
    "    Returns:\n",
    "    None: The board is modified in place.\n",
    "    \"\"\"\n",
    "    for const in constraints:\n",
    "        for KeyVar in const:\n",
    "            if len(board[KeyVar]) == 1:  # If there's only one possible value\n",
    "                for KeyXDelete in const:\n",
    "                    if KeyXDelete != KeyVar:\n",
    "                        # Remove that value from the other cells in the same group\n",
    "                        board[KeyXDelete].discard(next(iter(board[KeyVar])))"
   ]
  },
  {
   "cell_type": "markdown",
   "metadata": {},
   "source": [
    "### Function: `hidden_single`\n",
    "\n",
    "This function implements the Hidden Single technique. It goes through each group of constraints (row, column, or box) and checks if a digit can only be placed in one specific cell. If such a cell is found, it assigns that digit to the cell.\n"
   ]
  },
  {
   "cell_type": "code",
   "execution_count": 4,
   "metadata": {},
   "outputs": [],
   "source": [
    "def hidden_single(board, constraints):\n",
    "    \"\"\"\n",
    "    Applies the Hidden Single technique to the Sudoku board.\n",
    "\n",
    "    Parameters:\n",
    "    board (dict): The current Sudoku board.\n",
    "    constraints (list): A list of constraints (rows, columns, boxes).\n",
    "\n",
    "    Returns:\n",
    "    None: The board is modified in place.\n",
    "    \"\"\"\n",
    "    for const in constraints:\n",
    "        for digit in '123456789':\n",
    "            count = 0\n",
    "            last_key = None\n",
    "            for KeyVar in const:\n",
    "                # Check if the digit is a possible value for this cell\n",
    "                if digit in board[KeyVar]:\n",
    "                    count += 1\n",
    "                    last_key = KeyVar\n",
    "            # If the digit can only be placed in one cell, it must go there\n",
    "            if count == 1:\n",
    "                board[last_key] = {digit}"
   ]
  },
  {
   "cell_type": "markdown",
   "metadata": {},
   "source": [
    "### Algorithm: `AC-3` (Arc Consistency 3)\n",
    "\n",
    "AC-3 is a fundamental algorithm used to enforce consistency between variables in CSPs. In Sudoku, it helps by reducing the possible values for each cell by checking pairs of neighboring cells. If a cell has a value that contradicts a neighbor, that value is removed.\n",
    "\n",
    "This is especially useful for eliminating impossible values early in the search process.\n"
   ]
  },
  {
   "cell_type": "code",
   "execution_count": 5,
   "metadata": {},
   "outputs": [],
   "source": [
    "def ac3(board, constraints):\n",
    "    \"\"\"\n",
    "    Implements the AC-3 algorithm to reduce the domain of variables in the Sudoku board.\n",
    "\n",
    "    Parameters:\n",
    "    board (dict): The current Sudoku board.\n",
    "    constraints (list): A list of constraints (rows, columns, boxes).\n",
    "\n",
    "    Returns:\n",
    "    bool: Returns True if the board is arc-consistent, otherwise False.\n",
    "    \"\"\"\n",
    "    queue = deque([(Xi, Xj) for const in constraints for Xi in const for Xj in const if Xi != Xj])\n",
    "    \n",
    "    while queue:\n",
    "        Xi, Xj = queue.popleft()\n",
    "        if revise_arc_consistency(Xi, Xj, board):\n",
    "            if len(board[Xi]) == 0:\n",
    "                return False\n",
    "            # We change the set of lists to simply iterate over the constraints\n",
    "            for const in constraints:\n",
    "                if Xi in const:\n",
    "                    for Xk in const:\n",
    "                        if Xk != Xi and Xk != Xj:\n",
    "                            queue.append((Xk, Xi))\n",
    "    return True\n",
    "\n",
    "def revise_arc_consistency(Xi, Xj, board):\n",
    "    \"\"\"Check if Xi's domain can be reduced by removing inconsistent values with Xj.\"\"\"\n",
    "    removed = False\n",
    "    for x in board[Xi].copy():\n",
    "        if not any(x != y for y in board[Xj]):\n",
    "            board[Xi].discard(x)\n",
    "            removed = True\n",
    "    return removed"
   ]
  },
  {
   "cell_type": "markdown",
   "metadata": {},
   "source": [
    "### Function: `mrv`\n",
    "\n",
    "The MRV (Minimum Remaining Values) heuristic is used to select the variable (Sudoku cell) with the fewest possible values remaining. This heuristic is based on the idea that the most constrained variable should be solved first, as it limits future choices and simplifies the problem.\n",
    "\n",
    "For Sudoku, this translates into choosing the cell with the fewest possible digits to assign.\n"
   ]
  },
  {
   "cell_type": "code",
   "execution_count": 6,
   "metadata": {},
   "outputs": [],
   "source": [
    "def mrv(board):\n",
    "    \"\"\"\n",
    "    MRV heuristic (Minimum Remaining Values): Selects the cell with the fewest possible values.\n",
    "\n",
    "    Parameters:\n",
    "    board (dict): The current Sudoku board.\n",
    "\n",
    "    Returns:\n",
    "    str: The cell (key) with the minimum remaining values.\n",
    "    \"\"\"\n",
    "    # Return the cell with the minimum possible values, ignoring cells already solved (with 1 value)\n",
    "    return min((v for v in board if len(board[v]) > 1), key=lambda x: len(board[x]), default=None)"
   ]
  },
  {
   "cell_type": "markdown",
   "metadata": {},
   "source": [
    "### Function: `degree_heuristic`\n",
    "\n",
    "The Degree Heuristic is used when multiple variables have the same number of remaining values. It breaks the tie by selecting the variable involved in the largest number of constraints (i.e., the cell that affects the most neighboring cells). \n",
    "\n",
    "This helps in making the most restrictive decision, further reducing the search space.\n"
   ]
  },
  {
   "cell_type": "code",
   "execution_count": 7,
   "metadata": {},
   "outputs": [],
   "source": [
    "def degree_heuristic(board, constraints):\n",
    "    \"\"\"\n",
    "    Degree heuristic: Selects the cell that participates in the most constraints.\n",
    "\n",
    "    Parameters:\n",
    "    board (dict): The current Sudoku board.\n",
    "    constraints (list): The list of constraints (rows, columns, boxes).\n",
    "\n",
    "    Returns:\n",
    "    str: The cell (key) involved in the most constraints.\n",
    "    \"\"\"\n",
    "    return max((v for v in board if len(board[v]) > 1), key=lambda x: sum(1 for c in constraints if x in c), default=None)"
   ]
  },
  {
   "cell_type": "markdown",
   "metadata": {},
   "source": [
    "### Function: `solve`\n",
    "\n",
    "The `solve` function uses backtracking to find a solution to the Sudoku puzzle. It employs both the MRV heuristic and the Degree Heuristic to guide the search process, reducing the search space and making the solving process more efficient.\n"
   ]
  },
  {
   "cell_type": "code",
   "execution_count": 8,
   "metadata": {},
   "outputs": [],
   "source": [
    "def is_board_complete(board):\n",
    "    \"\"\"Check if the board is complete.\"\"\"\n",
    "    return all(len(board[var]) == 1 for var in board)\n",
    "\n",
    "def solve(board, constraints, verbose=False):\n",
    "    \"\"\"\n",
    "    Solves the Sudoku puzzle using backtracking, MRV, and Degree Heuristic.\n",
    "\n",
    "    Parameters:\n",
    "    board (dict): The current Sudoku board.\n",
    "    constraints (list): The list of constraints (rows, columns, boxes).\n",
    "    verbose (bool): If True, prints the steps taken by the solver.\n",
    "\n",
    "    Returns:\n",
    "    dict: The solved board, or None if no solution is found.\n",
    "    \"\"\"\n",
    "    # Check if the board is fully solved\n",
    "    if is_board_complete(board):\n",
    "        return board\n",
    "    \n",
    "    # Select the variable to assign a value using MRV, or Degree Heuristic as a tie breaker\n",
    "    var = mrv(board) or degree_heuristic(board, constraints)\n",
    "    \n",
    "    if not var:\n",
    "        return None\n",
    "\n",
    "    # Try assigning each possible value to the selected variable\n",
    "    for value in board[var].copy():\n",
    "        # Create a copy of the board to test the assignment\n",
    "        board_copy = {v: board[v].copy() for v in board}\n",
    "        board_copy[var] = {value}\n",
    "\n",
    "        # If the assignment is valid (AC3 holds), continue searching\n",
    "        if ac3(board_copy, constraints):\n",
    "            if verbose:\n",
    "                print(f\"Assigning {value} to variable {var}\")\n",
    "            solution = solve(board_copy, constraints, verbose)\n",
    "            if solution:\n",
    "                return solution\n",
    "    \n",
    "    return None"
   ]
  },
  {
   "cell_type": "markdown",
   "metadata": {},
   "source": [
    "### Example: Solving a Sudoku Puzzle\n",
    "\n",
    "Let's now test the full CSP solver on a difficult Sudoku puzzle.\n",
    "#### relative path\n"
   ]
  },
  {
   "cell_type": "code",
   "execution_count": 9,
   "metadata": {},
   "outputs": [
    {
     "name": "stdout",
     "output_type": "stream",
     "text": [
      "Initial board:\n",
      ". 6 . . 5 . . . 4 \n",
      ". . 9 . . . . . . \n",
      "7 1 5 . . . . . . \n",
      ". . 3 . 1 . . . 5 \n",
      ". . . 7 . 3 2 . . \n",
      "8 . 1 . 4 5 . 9 . \n",
      ". . 7 . . . 9 . . \n",
      "2 . 8 . . . 5 4 . \n",
      "6 . . 9 2 . 7 . . \n",
      "Assigning 3 to variable A1\n",
      "Assigning 1 to variable A4\n",
      "Assigning 6 to variable C7\n",
      "Assigning 2 to variable B9\n",
      "Assigning 3 to variable B9\n",
      "Assigning 8 to variable A4\n",
      "Assigning 6 to variable B7\n",
      "Assigning 7 to variable B5\n",
      "Assigning 2 to variable B6\n",
      "Assigning 1 to variable B6\n",
      "Assigning 3 to variable B5\n",
      "\n",
      "Solution found!\n",
      "3 6 2 8 5 9 1 7 4 \n",
      "4 8 9 1 3 7 6 5 2 \n",
      "7 1 5 4 6 2 8 3 9 \n",
      "9 7 3 2 1 8 4 6 5 \n",
      "5 4 6 7 9 3 2 1 8 \n",
      "8 2 1 6 4 5 3 9 7 \n",
      "1 3 7 5 8 4 9 2 6 \n",
      "2 9 8 3 7 6 5 4 1 \n",
      "6 5 4 9 2 1 7 8 3 \n"
     ]
    }
   ],
   "source": [
    "\n",
    "def generate_constraints():\n",
    "    \"\"\"Generate the constraints for Sudoku.\"\"\"\n",
    "    rows = 'ABCDEFGHI'\n",
    "    columns = '123456789'\n",
    "    \n",
    "    def group(boxes):\n",
    "        return [tuple(box) for box in boxes]\n",
    "\n",
    "    # Rows\n",
    "    row_groups = group([[row + column for column in columns] for row in rows])\n",
    "    # Columns\n",
    "    column_groups = group([[row + column for row in rows] for column in columns])\n",
    "    # 3x3 Boxes\n",
    "    box_groups = group([[row + column for row in rows[i:i+3] for column in columns[j:j+3]] for i in range(0, 9, 3) for j in range(0, 9, 3)])\n",
    "    \n",
    "    return row_groups + column_groups + box_groups\n",
    "\n",
    "def main():\n",
    "    default_path = r'Board_impossible_SD9BJKIA.txt'\n",
    "    file_path = input(\"Enter the path of the Sudoku file (or press Enter to use the default path): \")\n",
    "    if not file_path:\n",
    "        file_path = default_path\n",
    "\n",
    "    if not os.path.exists(file_path):\n",
    "        print(f\"The file {file_path} does not exist.\")\n",
    "        return\n",
    "\n",
    "    board = read_board(file_path)\n",
    "    constraints = generate_constraints()\n",
    "    \n",
    "    print(\"Initial board:\")\n",
    "    print_board(board)\n",
    "    \n",
    "    solution = solve(board, constraints, verbose=True)\n",
    "    \n",
    "    if solution:\n",
    "        print(\"\\nSolution found!\")\n",
    "        print_board(solution)\n",
    "    else:\n",
    "        print(\"\\nNo solution found.\")\n",
    "\n",
    "if __name__ == \"__main__\":\n",
    "    main()\n"
   ]
  }
 ],
 "metadata": {
  "kernelspec": {
   "display_name": "Python 3",
   "language": "python",
   "name": "python3"
  },
  "language_info": {
   "codemirror_mode": {
    "name": "ipython",
    "version": 3
   },
   "file_extension": ".py",
   "mimetype": "text/x-python",
   "name": "python",
   "nbconvert_exporter": "python",
   "pygments_lexer": "ipython3",
   "version": "3.12.6"
  }
 },
 "nbformat": 4,
 "nbformat_minor": 2
}
