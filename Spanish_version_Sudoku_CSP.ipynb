{
  "nbformat": 4,
  "nbformat_minor": 0,
  "metadata": {
    "colab": {
      "provenance": []
    },
    "kernelspec": {
      "name": "python3",
      "display_name": "Python 3"
    },
    "language_info": {
      "name": "python"
    }
  },
  "cells": [
    {
      "cell_type": "markdown",
      "source": [
        "# Solver de Sudoku usando Problemas de Satisfacción de Restricciones (CSP)\n",
        "\n",
        "En este notebook, vamos a resolver puzles de Sudoku utilizando técnicas de Problemas de Satisfacción de Restricciones (CSP), como **Naked Single**, **Hidden Single** y algoritmos como **AC-3**, **MRV** (Valores Mínimos Restantes), y la **Heurística del Grado**.\n",
        "\n",
        "## ¿Qué es un CSP?\n",
        "Un **Problema de Satisfacción de Restricciones** es un problema matemático donde debemos asignar valores a un conjunto de variables de tal manera que se cumplan las restricciones entre ellas. El Sudoku es un ejemplo clásico de CSP, donde cada celda es una variable y las restricciones son las reglas del juego (cada fila, columna y cuadro 3x3 deben contener los dígitos del 1 al 9 sin repetirse).\n",
        "\n",
        "## Importar librerías\n"
      ],
      "metadata": {
        "id": "EJRB4a_4GIur"
      }
    },
    {
      "cell_type": "code",
      "execution_count": null,
      "metadata": {
        "id": "NKxdnQPIGFBu"
      },
      "outputs": [],
      "source": [
        "import os\n",
        "import itertools as it\n",
        "from collections import deque\n"
      ]
    },
    {
      "cell_type": "markdown",
      "source": [
        "## Función: `leer_tablero`\n",
        "\n",
        "Esta función lee el tablero de Sudoku desde un archivo, asegurándose de que contenga exactamente 81 líneas (una por cada celda). Cada celda es o bien un valor conocido, o un conjunto de valores posibles.\n"
      ],
      "metadata": {
        "id": "lFRoVl9ZGLvb"
      }
    },
    {
      "cell_type": "code",
      "source": [
        "def leer_tablero(ruta_archivo):\n",
        "    \"\"\"Leer el archivo de texto y crear el diccionario del tablero.\"\"\"\n",
        "    tablero = {}\n",
        "    with open(ruta_archivo, 'r') as archivo:\n",
        "        lineas = archivo.readlines()\n",
        "        if len(lineas) != 81:\n",
        "            raise ValueError(\"El archivo debe contener exactamente 81 líneas.\")\n",
        "        filas = 'ABCDEFGHI'\n",
        "        columnas = '123456789'\n",
        "        for i, linea in enumerate(lineas):\n",
        "            fila = filas[i // 9]\n",
        "            columna = columnas[i % 9]\n",
        "            casilla = fila + columna\n",
        "            opciones = linea.strip()\n",
        "            tablero[casilla] = set(opciones) if len(opciones) > 1 else {opciones}\n",
        "    return tablero\n",
        "\n",
        "def imprimir_tablero(tablero):\n",
        "    \"\"\"Imprimir el tablero de Sudoku.\"\"\"\n",
        "    filas = 'ABCDEFGHI'\n",
        "    columnas = '123456789'\n",
        "    for fila in filas:\n",
        "        for columna in columnas:\n",
        "            casilla = fila + columna\n",
        "            print(''.join(tablero[casilla]) if len(tablero[casilla]) == 1 else '.', end=' ')\n",
        "        print()\n"
      ],
      "metadata": {
        "id": "Lx5viwylGNOZ"
      },
      "execution_count": null,
      "outputs": []
    },
    {
      "cell_type": "markdown",
      "source": [
        "### Función: `unico_desnudo`\n",
        "\n",
        "La técnica de **Naked Single** simplifica el tablero de Sudoku revisando si alguna celda contiene un único valor posible (un \"single desnudo\"). Si se encuentra tal celda, ese valor se elimina de las celdas vecinas en la misma fila, columna o caja.\n",
        "\n",
        "Esto ayuda a reducir los valores posibles para las celdas vecinas y nos acerca más a la solución.\n"
      ],
      "metadata": {
        "id": "DM4_Ws2DGPbl"
      }
    },
    {
      "cell_type": "code",
      "source": [
        "def unico_desnudo(tablero, restricciones):\n",
        "    \"\"\"\n",
        "    Aplica la técnica de Naked Single al tablero.\n",
        "\n",
        "    Parámetros:\n",
        "    tablero (dict): El tablero actual de Sudoku.\n",
        "    restricciones (list): Una lista de restricciones (filas, columnas, cajas).\n",
        "\n",
        "    Retorno:\n",
        "    Ninguno: El tablero se modifica directamente.\n",
        "    \"\"\"\n",
        "    for const in restricciones:\n",
        "        for KeyVar in const:\n",
        "            if len(tablero[KeyVar]) == 1:  # Si solo hay un valor posible\n",
        "                for KeyXDelete in const:\n",
        "                    if KeyXDelete != KeyVar:\n",
        "                        # Eliminar ese valor de las demás celdas del mismo grupo\n",
        "                        tablero[KeyXDelete].discard(next(iter(tablero[KeyVar])))\n"
      ],
      "metadata": {
        "id": "iW4D4URIGQnf"
      },
      "execution_count": null,
      "outputs": []
    },
    {
      "cell_type": "markdown",
      "source": [
        "### Función: `unico_oculto`\n",
        "\n",
        "Esta función implementa la técnica de **Hidden Single**. Recorre cada grupo de restricciones (fila, columna o caja) y verifica si un dígito solo puede colocarse en una celda específica. Si se encuentra dicha celda, asigna ese dígito a la celda.\n"
      ],
      "metadata": {
        "id": "U4j7AobqGSCZ"
      }
    },
    {
      "cell_type": "code",
      "source": [
        "def unico_oculto(tablero, restricciones):\n",
        "    \"\"\"\n",
        "    Aplica la técnica de Hidden Single al tablero de Sudoku.\n",
        "\n",
        "    Parámetros:\n",
        "    tablero (dict): El tablero actual de Sudoku.\n",
        "    restricciones (list): Una lista de restricciones (filas, columnas, cajas).\n",
        "\n",
        "    Retorno:\n",
        "    Ninguno: El tablero se modifica directamente.\n",
        "    \"\"\"\n",
        "    for const in restricciones:\n",
        "        for digito in '123456789':\n",
        "            contador = 0\n",
        "            ultima_clave = None\n",
        "            for KeyVar in const:\n",
        "                # Verificar si el dígito es un valor posible para esta celda\n",
        "                if digito in tablero[KeyVar]:\n",
        "                    contador += 1\n",
        "                    ultima_clave = KeyVar\n",
        "            # Si el dígito solo puede estar en una celda, debe colocarse allí\n",
        "            if contador == 1:\n",
        "                tablero[ultima_clave] = {digito}\n"
      ],
      "metadata": {
        "id": "N-_JsWvzGTOv"
      },
      "execution_count": null,
      "outputs": []
    },
    {
      "cell_type": "markdown",
      "source": [
        "### Algoritmo: `AC-3` (Arc Consistency 3)\n",
        "\n",
        "**AC-3** es un algoritmo fundamental usado para aplicar consistencia entre variables en CSP. En Sudoku, ayuda reduciendo los valores posibles para cada celda revisando pares de celdas vecinas. Si una celda tiene un valor que contradice a un vecino, ese valor se elimina.\n",
        "\n",
        "Esto es útil especialmente para eliminar valores imposibles desde el principio en el proceso de búsqueda.\n"
      ],
      "metadata": {
        "id": "UNVyix8ZGUjz"
      }
    },
    {
      "cell_type": "code",
      "source": [
        "def ac3(tablero, restricciones):\n",
        "    \"\"\"\n",
        "    Implementa el algoritmo AC-3 para reducir el dominio de variables en el tablero de Sudoku.\n",
        "\n",
        "    Parámetros:\n",
        "    tablero (dict): El tablero actual de Sudoku.\n",
        "    restricciones (list): Una lista de restricciones (filas, columnas, cajas).\n",
        "\n",
        "    Retorno:\n",
        "    bool: Devuelve True si el tablero es consistente en arcos, de lo contrario False.\n",
        "    \"\"\"\n",
        "    queue = deque([(Xi, Xj) for const in restricciones for Xi in const for Xj in const if Xi != Xj])\n",
        "\n",
        "    while queue:\n",
        "        Xi, Xj = queue.popleft()\n",
        "        if revisar_consistencia_arco(Xi, Xj, tablero):\n",
        "            if len(tablero[Xi]) == 0:\n",
        "                return False\n",
        "            for const in restricciones:\n",
        "                if Xi in const:\n",
        "                    for Xk in const:\n",
        "                        if Xk != Xi and Xk != Xj:\n",
        "                            queue.append((Xk, Xi))\n",
        "    return True\n",
        "\n",
        "def revisar_consistencia_arco(Xi, Xj, tablero):\n",
        "    \"\"\"Revisar si el dominio de Xi puede reducirse eliminando valores inconsistentes con Xj.\"\"\"\n",
        "    eliminado = False\n",
        "    for x in tablero[Xi].copy():\n",
        "        if not any(x != y for y in tablero[Xj]):\n",
        "            tablero[Xi].discard(x)\n",
        "            eliminado = True\n",
        "    return eliminado\n"
      ],
      "metadata": {
        "id": "BT5mG7tuGVxc"
      },
      "execution_count": null,
      "outputs": []
    },
    {
      "cell_type": "markdown",
      "source": [
        "### Función: `mrv`\n",
        "\n",
        "La heurística **MRV** (Valores Mínimos Restantes) se usa para seleccionar la variable (celda del Sudoku) con el menor número de valores posibles restantes. Esta heurística está basada en la idea de que la variable más restringida debe resolverse primero, ya que limita futuras elecciones y simplifica el problema.\n",
        "\n",
        "Para el Sudoku, esto se traduce en elegir la celda con el menor número de dígitos posibles para asignar.\n"
      ],
      "metadata": {
        "id": "qBvEzMkaGXRr"
      }
    },
    {
      "cell_type": "code",
      "source": [
        "def mrv(tablero):\n",
        "    \"\"\"\n",
        "    Heurística MRV (Valores Mínimos Restantes): Selecciona la celda con el menor número de valores posibles.\n",
        "\n",
        "    Parámetros:\n",
        "    tablero (dict): El tablero actual de Sudoku.\n",
        "\n",
        "    Retorno:\n",
        "    str: La celda (clave) con los valores mínimos restantes.\n",
        "    \"\"\"\n",
        "    # Devuelve la celda con el menor número de valores posibles, ignorando las celdas ya resueltas (con 1 valor)\n",
        "    return min((v for v in tablero if len(tablero[v]) > 1), key=lambda x: len(tablero[x]), default=None)\n"
      ],
      "metadata": {
        "id": "ouoa7aQ1GYNR"
      },
      "execution_count": null,
      "outputs": []
    },
    {
      "cell_type": "markdown",
      "source": [
        "### Función: `heuristica_grado`\n",
        "\n",
        "La **Heurística de Grado** se utiliza cuando varias variables tienen el mismo número de valores restantes. Desempata seleccionando la variable que participa en el mayor número de restricciones (es decir, la celda que afecta a más celdas vecinas).\n",
        "\n",
        "Esto ayuda a tomar la decisión más restrictiva, reduciendo aún más el espacio de búsqueda.\n"
      ],
      "metadata": {
        "id": "Xz8DCSLBGZGK"
      }
    },
    {
      "cell_type": "code",
      "source": [
        "def heuristica_grado(tablero, restricciones):\n",
        "    \"\"\"\n",
        "    Heurística de Grado: Selecciona la celda que participa en el mayor número de restricciones.\n",
        "\n",
        "    Parámetros:\n",
        "    tablero (dict): El tablero actual de Sudoku.\n",
        "    restricciones (list): La lista de restricciones (filas, columnas, cajas).\n",
        "\n",
        "    Retorno:\n",
        "    str: La celda (clave) que participa en el mayor número de restricciones.\n",
        "    \"\"\"\n",
        "    return max((v for v in tablero if len(tablero[v]) > 1), key=lambda x: sum(1 for c in restricciones if x in c), default=None)\n"
      ],
      "metadata": {
        "id": "aOzkN2fRGaM7"
      },
      "execution_count": null,
      "outputs": []
    },
    {
      "cell_type": "markdown",
      "source": [
        "### Función: `resolver`\n",
        "\n",
        "La función `resolver` utiliza **backtracking** para encontrar una solución al puzle de Sudoku. Emplea tanto la heurística MRV como la Heurística de Grado para guiar el proceso de búsqueda, reduciendo el espacio de búsqueda y haciendo que el proceso sea más eficiente.\n"
      ],
      "metadata": {
        "id": "uEdKF71PGbPW"
      }
    },
    {
      "cell_type": "code",
      "source": [
        "def es_tablero_completo(tablero):\n",
        "    \"\"\"Verifica si el tablero está completo.\"\"\"\n",
        "    return all(len(tablero[var]) == 1 for var in tablero)\n",
        "\n",
        "def resolver(tablero, restricciones, verbose=False):\n",
        "    \"\"\"\n",
        "    Resuelve el puzle de Sudoku usando backtracking, MRV, y Heurística de Grado.\n",
        "\n",
        "    Parámetros:\n",
        "    tablero (dict): El tablero actual de Sudoku.\n",
        "    restricciones (list): La lista de restricciones (filas, columnas, cajas).\n",
        "    verbose (bool): Si es True, imprime los pasos tomados por el solucionador.\n",
        "\n",
        "    Retorno:\n",
        "    dict: El tablero resuelto, o None si no se encuentra solución.\n",
        "    \"\"\"\n",
        "    # Verifica si el tablero está completamente resuelto\n",
        "    if es_tablero_completo(tablero):\n",
        "        return tablero\n",
        "\n",
        "    # Selecciona la variable a asignar un valor usando MRV, o Heurística de Grado para desempatar\n",
        "    var = mrv(tablero) or heuristica_grado(tablero, restricciones)\n",
        "\n",
        "    if not var:\n",
        "        return None\n",
        "\n",
        "    # Intenta asignar cada valor posible a la variable seleccionada\n",
        "    for valor in tablero[var].copy():\n",
        "        # Crea una copia del tablero para probar la asignación\n",
        "        tablero_copia = {v: tablero[v].copy() for v in tablero}\n",
        "        tablero_copia[var] = {valor}\n",
        "\n",
        "        # Si la asignación es válida (AC3 es consistente), continúa buscando\n",
        "        if ac3(tablero_copia, restricciones):\n",
        "            if verbose:\n",
        "                print(f\"Asignando {valor} a la variable {var}\")\n",
        "            solucion = resolver(tablero_copia, restricciones, verbose)\n",
        "            if solucion:\n",
        "                return solucion\n",
        "\n",
        "    return None\n"
      ],
      "metadata": {
        "id": "7Et6B5NTGcUo"
      },
      "execution_count": null,
      "outputs": []
    },
    {
      "cell_type": "markdown",
      "source": [
        "### Ejemplo: Resolviendo un Puzle de Sudoku\n",
        "\n",
        "Probemos ahora el solucionador CSP completo en un puzle difícil de Sudoku.\n"
      ],
      "metadata": {
        "id": "hMGCyUqtGj4p"
      }
    },
    {
      "cell_type": "code",
      "source": [
        "def generar_restricciones():\n",
        "    \"\"\"Genera las restricciones para el Sudoku.\"\"\"\n",
        "    filas = 'ABCDEFGHI'\n",
        "    columnas = '123456789'\n",
        "\n",
        "    def agrupar(cajas):\n",
        "        return [tuple(caja) for caja in cajas]\n",
        "\n",
        "    # Filas\n",
        "    filas_grupo = agrupar([[fila + columna for columna in columnas] for fila in filas])\n",
        "    # Columnas\n",
        "    columnas_grupo = agrupar([[fila + columna for fila in filas] for columna in columnas])\n",
        "    # Cajas 3x3\n",
        "    cajas_grupo = agrupar([[fila + columna for fila in filas[i:i+3] for columna in columnas[j:j+3]] for i in range(0, 9, 3) for j in range(0, 9, 3)])\n",
        "\n",
        "    return filas_grupo + columnas_grupo + cajas_grupo\n",
        "\n",
        "def main():\n",
        "    ruta_default = r'Board_impossible_SD9BJKIA.txt'\n",
        "    ruta_archivo = input(\"Ingrese la ruta del archivo de Sudoku (o presione Enter para usar la ruta por defecto): \")\n",
        "    if not ruta_archivo:\n",
        "        ruta_archivo = ruta_default\n",
        "\n",
        "    if not os.path.exists(ruta_archivo):\n",
        "        print(f\"El archivo {ruta_archivo} no existe.\")\n",
        "        return\n",
        "\n",
        "    tablero = leer_tablero(ruta_archivo)\n",
        "    restricciones = generar_restricciones()\n",
        "\n",
        "    print(\"Tablero inicial:\")\n",
        "    imprimir_tablero(tablero)\n",
        "\n",
        "    solucion = resolver(tablero, restricciones, verbose=True)\n",
        "\n",
        "    if solucion:\n",
        "        print(\"\\n¡Solución encontrada!\")\n",
        "        imprimir_tablero(solucion)\n",
        "    else:\n",
        "        print(\"\\nNo se encontró solución.\")\n",
        "\n",
        "if __name__ == \"__main__\":\n",
        "    main()\n"
      ],
      "metadata": {
        "colab": {
          "base_uri": "https://localhost:8080/"
        },
        "id": "CzxfVSlkGldF",
        "outputId": "240d1baf-e645-481b-e6b6-0745c842aae0"
      },
      "execution_count": null,
      "outputs": [
        {
          "output_type": "stream",
          "name": "stdout",
          "text": [
            "Ingrese la ruta del archivo de Sudoku (o presione Enter para usar la ruta por defecto): \n",
            "Tablero inicial:\n",
            ". 6 . . 5 . . . 4 \n",
            ". . 9 . . . . . . \n",
            "7 1 5 . . . . . . \n",
            ". . 3 . 1 . . . 5 \n",
            ". . . 7 . 3 2 . . \n",
            "8 . 1 . 4 5 . 9 . \n",
            ". . 7 . . . 9 . . \n",
            "2 . 8 . . . 5 4 . \n",
            "6 . . 9 2 . 7 . . \n",
            "Asignando 3 a la variable A1\n",
            "Asignando 1 a la variable A4\n",
            "Asignando 6 a la variable C7\n",
            "Asignando 3 a la variable B9\n",
            "Asignando 2 a la variable B9\n",
            "Asignando 8 a la variable A4\n",
            "Asignando 6 a la variable B7\n",
            "Asignando 3 a la variable B5\n",
            "\n",
            "¡Solución encontrada!\n",
            "3 6 2 8 5 9 1 7 4 \n",
            "4 8 9 1 3 7 6 5 2 \n",
            "7 1 5 4 6 2 8 3 9 \n",
            "9 7 3 2 1 8 4 6 5 \n",
            "5 4 6 7 9 3 2 1 8 \n",
            "8 2 1 6 4 5 3 9 7 \n",
            "1 3 7 5 8 4 9 2 6 \n",
            "2 9 8 3 7 6 5 4 1 \n",
            "6 5 4 9 2 1 7 8 3 \n"
          ]
        }
      ]
    }
  ]
}